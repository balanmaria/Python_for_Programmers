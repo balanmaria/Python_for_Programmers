{
  "nbformat": 4,
  "nbformat_minor": 0,
  "metadata": {
    "colab": {
      "provenance": [],
      "authorship_tag": "ABX9TyOSoGRc1VsrCXHdqrGAKgkY",
      "include_colab_link": true
    },
    "kernelspec": {
      "name": "python3",
      "display_name": "Python 3"
    },
    "language_info": {
      "name": "python"
    }
  },
  "cells": [
    {
      "cell_type": "markdown",
      "metadata": {
        "id": "view-in-github",
        "colab_type": "text"
      },
      "source": [
        "<a href=\"https://colab.research.google.com/github/balanmaria/Python_for_Programmers/blob/main/27_02_2023.ipynb\" target=\"_parent\"><img src=\"https://colab.research.google.com/assets/colab-badge.svg\" alt=\"Open In Colab\"/></a>"
      ]
    },
    {
      "cell_type": "code",
      "execution_count": 3,
      "metadata": {
        "colab": {
          "base_uri": "https://localhost:8080/",
          "height": 34
        },
        "id": "Yw08BrO2Dd75",
        "outputId": "0d4ca6ea-e0ee-4231-af3b-f10435276d7e"
      },
      "outputs": [
        {
          "output_type": "display_data",
          "data": {
            "text/plain": [
              "<Figure size 640x480 with 0 Axes>"
            ]
          },
          "metadata": {}
        }
      ],
      "source": [
        "from matplotlib import animation\n",
        "import matplotlib.pyplot as plt\n",
        "import random\n",
        "import seaborn as sns\n",
        "import sys\n",
        "\n",
        "def update(frame_number, rolls, faces, frequencies):\n",
        "  for i in range(rolls):\n",
        "    frequencies[random.randrange(1,7)-1]+=1\n",
        "\n",
        "  plt.cla()\n",
        "  axes = sns.barplot(x=faces, y=frequencies, palette='bright')\n",
        "  axes.set_title(f'Die Frequencies for {sum(frequencies):,} Rolls')\n",
        "  axes.set(xlabel='Die Value', ylabel='Frequency')\n",
        "  axes.set_ylim(top=max(frequencies) * 1.10)\n",
        "\n",
        "  for bar, frequency in zip(axes.patches, frequencies):\n",
        "    text_x = bar.get_x() + bar.get_width() / 2.0\n",
        "    text_y = bar.get_height()\n",
        "    text = f'{frequency:,}\\n{frequency / sum(frequencies):.3%}'\n",
        "    axes.text(text_x, text_y, text, ha='center', va='bottom')\n",
        "\n",
        "# number_of_frames = int(sys.argv[1])\n",
        "# rolls_per_frame = int(sys.argv[2])\n",
        "\n",
        "number_of_frames = 6000\n",
        "rolls_per_frame = 1\n",
        "\n",
        "sns.set_style('whitegrid')\n",
        "figure = plt.figure('Rolling a Six-Sided Die')\n",
        "values = list(range(1,7))\n",
        "frequencies = [0] * 6\n",
        "\n",
        "die_animation = animation.FuncAnimation(figure, update, repeat=False, frames=number_of_frames, interval = 33, fargs = (rolls_per_frame, values, frequencies))\n",
        "plt.show()"
      ]
    }
  ]
}